{
  "nbformat": 4,
  "nbformat_minor": 0,
  "metadata": {
    "colab": {
      "provenance": []
    },
    "kernelspec": {
      "name": "python3",
      "display_name": "Python 3"
    },
    "language_info": {
      "name": "python"
    }
  },
  "cells": [
    {
      "cell_type": "code",
      "execution_count": null,
      "metadata": {
        "id": "qwwvscpbb08E"
      },
      "outputs": [],
      "source": [
        "def fakt(n):\n",
        "    if n==0 or n ==1:\n",
        "        return 1\n",
        "    else:\n",
        "        return fakt(n-1)*n\n",
        "print(fakt(4))"
      ]
    },
    {
      "cell_type": "code",
      "source": [
        "def perkalian(bil1,bil2):\n",
        " if bil2==1:\n",
        "    print(\"%d = \" %(bil1),end='')\n",
        "    return bil1\n",
        " else:\n",
        "    print(\"%d + \" %(bil1),end='')\n",
        "    return bil1 + perkalian(bil1,bil2-1)\n",
        "\n",
        "print(perkalian(2,4))"
      ],
      "metadata": {
        "id": "_SzgrVyfcY9r"
      },
      "execution_count": null,
      "outputs": []
    },
    {
      "cell_type": "code",
      "source": [
        "def pangkat(bil1,bil2):\n",
        "   if bil2==1:\n",
        "      print(\"%d = \" %(bil1),end='')\n",
        "      return bil1\n",
        "   else:\n",
        "      print(\"%d * \" %(bil1),end='')\n",
        "      return bil1 * pangkat(bil1,bil2-1)\n",
        "\n",
        "print(pangkat(6,9))"
      ],
      "metadata": {
        "id": "vsyub9WucZH6"
      },
      "execution_count": null,
      "outputs": []
    },
    {
      "cell_type": "code",
      "source": [
        "def fibo(n):\n",
        "   f1,f2=1,1\n",
        "   print(f1,\", \",f2,\", \",end='')\n",
        "   for i in range(2,n):\n",
        "      fib = f1+f2\n",
        "      f1 = f2\n",
        "      f2 = fib\n",
        "      print(fib,\", \",end='')\n",
        "\n",
        "fibo(7)"
      ],
      "metadata": {
        "id": "_0pTQj7wcZM3"
      },
      "execution_count": null,
      "outputs": []
    },
    {
      "cell_type": "code",
      "source": [
        "def fibo(n):\n",
        " if n==1 or n==2:\n",
        "  return 1\n",
        " else:\n",
        "  return fibo(n-1) + fibo(n-2)\n",
        "\n",
        "print(fibo(7))"
      ],
      "metadata": {
        "id": "ga4W2CsvcZRs"
      },
      "execution_count": null,
      "outputs": []
    },
    {
      "cell_type": "code",
      "source": [
        "def toStr(n, base):\n",
        "    convertString = \"0123456789ABCDEF\"\n",
        "    if n < base:\n",
        "        return convertString[n]\n",
        "    else:\n",
        "        return toStr(n // base, base) + convertString[n % base]\n",
        "\n",
        "print(\"Please enter a number and a base\")\n",
        "angka = int(input(\"Number: \"))\n",
        "basis = int(input(\"Base (2/8/16): \"))\n",
        "print(toStr(angka, basis))"
      ],
      "metadata": {
        "id": "ErO72NzQcZWL"
      },
      "execution_count": null,
      "outputs": []
    },
    {
      "cell_type": "code",
      "source": [
        "def permutasi(m, n):\n",
        "    # m : batas atas dan n : batas bawah, dimana m > n\n",
        "    if n == 0:\n",
        "        # jika n = 0, maka hasil adalah m!/(m-1)! = 1\n",
        "        return 1\n",
        "    else:\n",
        "        # jika n > 1, panggil metode permutasi secara rekursif dengan parameter n-1 sampai n\n",
        "        return permutasi(m, n - 1) * (m - n + 1)\n",
        "        # kembalikan nilai permutasi dengan parameter m dan n-1 dikalikan dengan (m - n + 1)\n",
        "\n",
        "print(permutasi(10, 4))"
      ],
      "metadata": {
        "id": "BabUcSYWcZa0"
      },
      "execution_count": null,
      "outputs": []
    },
    {
      "cell_type": "code",
      "source": [],
      "metadata": {
        "id": "NWgrY9JqcZeP"
      },
      "execution_count": null,
      "outputs": []
    }
  ]
}